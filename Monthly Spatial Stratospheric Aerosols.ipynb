{
 "cells": [
  {
   "cell_type": "code",
   "execution_count": null,
   "id": "b2798d2d-48df-4a03-bd48-f05c065930b1",
   "metadata": {},
   "outputs": [],
   "source": [
    "import earthaccess\n",
    "import xarray as xr\n",
    "from xarray.backends.api import open_datatree\n",
    "import matplotlib.pyplot as plt\n",
    "import cartopy.crs as ccrs\n",
    "import cartopy.feature as cfeature\n",
    "import numpy as np\n",
    "from matplotlib.colors import LogNorm\n",
    "import cmocean\n",
    "import pandas as pd\n",
    "import matplotlib.colors as mcolors\n",
    "import os"
   ]
  },
  {
   "cell_type": "code",
   "execution_count": null,
   "id": "5e2cac85-a938-4f8e-ae63-9b349ee45b51",
   "metadata": {},
   "outputs": [],
   "source": [
    "auth = earthaccess.login(persist=True)"
   ]
  },
  {
   "cell_type": "code",
   "execution_count": null,
   "id": "63a20dce-a2e2-4165-89ea-11ad15b08328",
   "metadata": {},
   "outputs": [],
   "source": [
    "tspan = (\"2015-01-30\", \"2016-12-30\")\n",
    "\n",
    "results = earthaccess.search_data(\n",
    "    short_name=\"OMPS_NPP_LP_L3_AER_MONTHLY\",\n",
    "    temporal=tspan,\n",
    ")\n",
    "\n",
    "paths = earthaccess.open(results)"
   ]
  },
  {
   "cell_type": "code",
   "execution_count": null,
   "id": "3cf4a690-6b46-48b1-ae1a-281f5fd4e3fe",
   "metadata": {},
   "outputs": [],
   "source": [
    "dataset = xr.open_dataset(paths[4])\n",
    "dataset"
   ]
  },
  {
   "cell_type": "code",
   "execution_count": null,
   "id": "7e61fc62-b339-47ec-ab64-7f5dcd688f18",
   "metadata": {},
   "outputs": [],
   "source": [
    "print(\"Dataset dimensions:\", list(dataset.dims))\n",
    "print(\"Dataset coordinates:\", list(dataset.coords))\n",
    "print(\"Dataset variables:\", list(dataset.data_vars))"
   ]
  },
  {
   "cell_type": "code",
   "execution_count": null,
   "id": "28ad3794-ec63-4002-8187-d68f1a5718c5",
   "metadata": {},
   "outputs": [],
   "source": [
    "strat_column_vars = [var for var in dataset.data_vars if 'strat' in var.lower()]\n",
    "print(\"Potential stratospheric column variables:\", strat_column_vars)"
   ]
  },
  {
   "cell_type": "code",
   "execution_count": null,
   "id": "8b27f94a-7b78-4ca1-8772-f3c428443aed",
   "metadata": {},
   "outputs": [],
   "source": [
    "# Compare longitude ranges between months\n",
    "march_dataset = xr.open_dataset(paths[2])  # March\n",
    "april_dataset = xr.open_dataset(paths[3])  # April\n",
    "\n",
    "print(\"March longitude range:\")\n",
    "print(f\"  Min: {march_dataset['Longitude'].min().values:.1f}°\")\n",
    "print(f\"  Max: {march_dataset['Longitude'].max().values:.1f}°\")\n",
    "print(f\"  Coverage: {march_dataset['Longitude'].max().values - march_dataset['Longitude'].min().values:.1f}°\")\n",
    "\n",
    "print(\"\\nApril longitude range:\")\n",
    "print(f\"  Min: {april_dataset['Longitude'].min().values:.1f}°\")  \n",
    "print(f\"  Max: {april_dataset['Longitude'].max().values:.1f}°\")\n",
    "print(f\"  Coverage: {april_dataset['Longitude'].max().values - april_dataset['Longitude'].min().values:.1f}°\")"
   ]
  },
  {
   "cell_type": "code",
   "execution_count": null,
   "id": "7b100861-bfd0-4b9b-a88b-f7d00a36ca6f",
   "metadata": {},
   "outputs": [],
   "source": [
    "plt.figure(figsize=(10, 6))\n",
    "plt.hist(dataset[strat_var].values.flatten(), range=[0, 0.25], bins=30)\n",
    "plt.title(\"Histogram of Stratospheric Aerosol Values\")\n",
    "plt.show()"
   ]
  },
  {
   "cell_type": "code",
   "execution_count": null,
   "id": "3d56b252-a6a9-4df1-8e2e-54a0a8ef37f5",
   "metadata": {},
   "outputs": [],
   "source": [
    "save_directory = \"Plots/Spatial Stratospheric Aerosols\"\n",
    "os.makedirs(save_directory, exist_ok=True)"
   ]
  },
  {
   "cell_type": "code",
   "execution_count": null,
   "id": "7df01da5-ceda-4f77-968c-cc3cc083c8b5",
   "metadata": {},
   "outputs": [],
   "source": [
    "fig, ax = plt.subplots(figsize=(12, 7), subplot_kw={'projection': ccrs.PlateCarree()})\n",
    "\n",
    "data = dataset[strat_var]\n",
    "\n",
    "if 'Wavelength' in data.dims:\n",
    "    wavelengths = dataset.Wavelength.values\n",
    "    target_wavelength = 675\n",
    "    closest_idx = np.argmin(np.abs(wavelengths - target_wavelength))\n",
    "    actual_wavelength = wavelengths[closest_idx]\n",
    "    \n",
    "    data = data.isel(Wavelength=closest_idx)\n",
    "    wavelength_label = f\" at {actual_wavelength} nm\"\n",
    "else:\n",
    "    wavelength_label = \"\"\n",
    "\n",
    "lat = dataset['Latitude'].values\n",
    "lon = dataset['Longitude'].values\n",
    "\n",
    "colors = ['yellow', 'orange', 'red', 'darkred']\n",
    "n_bins = 256\n",
    "cmap_custom = mcolors.LinearSegmentedColormap.from_list('yellow_red', colors, N=n_bins)\n",
    "\n",
    "im = ax.imshow(data.values.T, \n",
    "               extent=[lon.min(), lon.max(), lat.min(), lat.max()],\n",
    "               transform=ccrs.PlateCarree(),\n",
    "               cmap='YlOrRd',\n",
    "               vmin=0, vmax=0.04, \n",
    "               origin='lower')\n",
    "\n",
    "ax.coastlines()\n",
    "ax.add_feature(cfeature.BORDERS)\n",
    "gl = ax.gridlines(draw_labels=True, alpha=0.5)\n",
    "gl.xlabel_style = {'size': 16}  # Longitude label size\n",
    "gl.ylabel_style = {'size': 16}\n",
    "ax.set_extent([lon.min(), lon.max(), lat.min(), lat.max()], crs=ccrs.PlateCarree())\n",
    "\n",
    "cbar = plt.colorbar(im, ax=ax, shrink=0.6, pad=0.15)\n",
    "cbar.set_label(f'Stratospheric Aerosol Level', fontsize=20)\n",
    "cbar.ax.tick_params(labelsize=16)\n",
    "\n",
    "plt.title(f\"OMPS Stratospheric Aerosol at 675 nm - May 2015\", fontsize=28)\n",
    "\n",
    "save_path = os.path.join(save_directory, 'May2015_SpatialAerosols.png')\n",
    "plt.savefig(save_path, dpi=300, bbox_inches='tight')\n",
    "plt.show()"
   ]
  },
  {
   "cell_type": "code",
   "execution_count": null,
   "id": "e27a49d3-633e-455c-ba51-3d4be1eb6413",
   "metadata": {},
   "outputs": [],
   "source": [
    "march_dataset = xr.open_dataset(paths[3]) \n",
    "april_dataset = xr.open_dataset(paths[4])  \n",
    "\n",
    "march_data = march_dataset[\"StratColumn\"]\n",
    "april_data = april_dataset[\"StratColumn\"]\n",
    "\n",
    "if 'Wavelength' in march_data.dims:\n",
    "    wavelengths = march_dataset.Wavelength.values\n",
    "    target_wavelength = 675\n",
    "    closest_idx = np.argmin(np.abs(wavelengths - target_wavelength))\n",
    "    \n",
    "    march_data = march_data.isel(Wavelength=closest_idx)\n",
    "    april_data = april_data.isel(Wavelength=closest_idx)\n",
    "\n",
    "difference = april_data - march_data\n",
    "\n",
    "fig, ax = plt.subplots(figsize=(12, 7), subplot_kw={'projection': ccrs.PlateCarree()})\n",
    "\n",
    "lat = march_dataset['Latitude'].values\n",
    "lon = march_dataset['Longitude'].values\n",
    "\n",
    "# Plot the difference using a diverging colormap (good for showing positive/negative changes)\n",
    "im = ax.imshow(difference.values.T, \n",
    "               extent=[lon.min(), lon.max(), lat.min(), lat.max()],\n",
    "               transform=ccrs.PlateCarree(),\n",
    "               cmap='YlOrRd',  # Red-Blue colormap (red=positive, blue=negative)\n",
    "               vmin=-0.01, vmax=0.01,  # Adjust range based on your difference values\n",
    "               origin='lower')\n",
    "\n",
    "# Add map features\n",
    "ax.coastlines()\n",
    "ax.add_feature(cfeature.BORDERS)\n",
    "ax.gridlines(draw_labels=True, alpha=0.5)\n",
    "ax.set_extent([lon.min(), lon.max(), lat.min(), lat.max()], crs=ccrs.PlateCarree())\n",
    "\n",
    "# Add colorbar\n",
    "cbar = plt.colorbar(im, ax=ax, shrink=0.6, pad=0.05)\n",
    "cbar.set_label('Stratospheric Aerosol Difference')\n",
    "\n",
    "plt.title('Stratospheric Aerosol Difference: April 2023 - March 2023 at 675nm')\n",
    "plt.show()\n"
   ]
  }
 ],
 "metadata": {
  "kernelspec": {
   "display_name": "Python 3 (ipykernel)",
   "language": "python",
   "name": "python3"
  },
  "language_info": {
   "codemirror_mode": {
    "name": "ipython",
    "version": 3
   },
   "file_extension": ".py",
   "mimetype": "text/x-python",
   "name": "python",
   "nbconvert_exporter": "python",
   "pygments_lexer": "ipython3",
   "version": "3.10.14"
  }
 },
 "nbformat": 4,
 "nbformat_minor": 5
}
